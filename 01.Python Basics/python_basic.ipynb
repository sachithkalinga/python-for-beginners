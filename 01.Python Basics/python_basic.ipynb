{
 "cells": [
  {
   "cell_type": "code",
   "execution_count": 2,
   "metadata": {},
   "outputs": [
    {
     "name": "stdout",
     "output_type": "stream",
     "text": [
      "Dragon\n",
      "BMW\n"
     ]
    }
   ],
   "source": [
    "# Updating........................................\n",
    "a = 5\n",
    "a = \"Dragon\"\n",
    "print(a)\n",
    "\n",
    "car = \"Toyota\"\n",
    "car = \"BMW\"\n",
    "print(car)"
   ]
  },
  {
   "cell_type": "code",
   "execution_count": 3,
   "metadata": {},
   "outputs": [
    {
     "name": "stdout",
     "output_type": "stream",
     "text": [
      "55 Rose\n",
      "posts:14\n"
     ]
    }
   ],
   "source": [
    "# Expressions.....................................\n",
    "flowers = \"55\"\n",
    "print(flowers + \" Rose\")\n",
    "\n",
    "label = \"posts:\" + \"14\"\n",
    "print(label)\n"
   ]
  },
  {
   "cell_type": "code",
   "execution_count": 4,
   "metadata": {},
   "outputs": [
    {
     "name": "stdout",
     "output_type": "stream",
     "text": [
      "Total Post: 12\n"
     ]
    }
   ],
   "source": [
    "# Numbers..........................................\n",
    "private = 4\n",
    "public = 8\n",
    "# print(\"Total Post: \" + private + public) XXXXXXXXXXXXXXXXXXXXXXXX\n",
    "\n",
    "total = private + public\n",
    "print(\"Total Post: \" + str(total))\n"
   ]
  }
 ],
 "metadata": {
  "kernelspec": {
   "display_name": "Python 3",
   "language": "python",
   "name": "python3"
  },
  "language_info": {
   "codemirror_mode": {
    "name": "ipython",
    "version": 3
   },
   "file_extension": ".py",
   "mimetype": "text/x-python",
   "name": "python",
   "nbconvert_exporter": "python",
   "pygments_lexer": "ipython3",
   "version": "3.9.0"
  },
  "orig_nbformat": 4
 },
 "nbformat": 4,
 "nbformat_minor": 2
}
